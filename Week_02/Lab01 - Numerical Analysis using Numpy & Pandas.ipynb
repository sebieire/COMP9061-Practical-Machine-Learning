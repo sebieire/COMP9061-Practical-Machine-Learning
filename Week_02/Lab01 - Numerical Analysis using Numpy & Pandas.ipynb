{
 "cells": [
  {
   "cell_type": "markdown",
   "metadata": {},
   "source": [
    "# COMP9061 - Numpy & Pandas Exercise"
   ]
  },
  {
   "cell_type": "code",
   "execution_count": 1,
   "metadata": {},
   "outputs": [],
   "source": [
    "# import sys, numpy and os libraries\n",
    "import sys\n",
    "import os\n",
    "import numpy as np\n",
    "import pandas as pd\n",
    "from platform import python_version\n",
    "import matplotlib.pyplot as plt\n",
    "import matplotlib as mpl"
   ]
  },
  {
   "cell_type": "code",
   "execution_count": 2,
   "metadata": {},
   "outputs": [
    {
     "name": "stdout",
     "output_type": "stream",
     "text": [
      "System Version 3.7.3 (default, Apr 24 2019, 15:29:51) [MSC v.1915 64 bit (AMD64)]\n",
      "Pandas Version 0.25.1\n",
      "Numpy Version 1.17.1\n",
      "Matplotlib Version 3.1.0\n"
     ]
    }
   ],
   "source": [
    "print('System Version', sys.version)\n",
    "print('Pandas Version', pd.__version__)\n",
    "print('Numpy Version', np.__version__)\n",
    "print('Matplotlib Version', mpl.__version__)"
   ]
  },
  {
   "cell_type": "markdown",
   "metadata": {},
   "source": [
    "## Question 1: Numerical Analysis Exercises using Numpy - Rainfall Dataset\n",
    "----\n",
    "\n",
    "Dataset: CorkRainfall.txt\n",
    "*(The dataset consists of 600 observations and 1 - Categorical and 4 - Continous variables)*\n",
    "\n",
    "Each line of the file contains the following precipitation information pertaining to a specific month and year:\n",
    "* Year\n",
    "* Month (1 = Jan, 2 = Feb, 3 = March, etc.)\n",
    "* Total Rainfall (Millimetres)\n",
    "* Most Rainfall in Day (Millimetres)\n",
    "* Number of Rain days (A day is classified as a rain day if it has >= 0.2mm rain) (Number)\n",
    "\n"
   ]
  },
  {
   "cell_type": "code",
   "execution_count": 3,
   "metadata": {},
   "outputs": [],
   "source": [
    "# set file path\n",
    "filename = 'CorkRainfall.txt'\n",
    "file = os.path.join(os.path.curdir,'datasets', filename)"
   ]
  },
  {
   "cell_type": "code",
   "execution_count": 4,
   "metadata": {},
   "outputs": [],
   "source": [
    "# turn off scientific notation\n",
    "np.set_printoptions(suppress=True)\n",
    "\n",
    "# import the file CorkRainfall.txt into the variable cork_rain\n",
    "cork_rain = np.genfromtxt(file, dtype=\"float\")"
   ]
  },
  {
   "cell_type": "code",
   "execution_count": 5,
   "metadata": {},
   "outputs": [
    {
     "name": "stdout",
     "output_type": "stream",
     "text": [
      "[[1962.     1.   134.6   12.5   22. ]\n",
      " [1962.     2.    77.2   11.2   17. ]\n",
      " [1962.     3.    73.6   13.4   13. ]\n",
      " ...\n",
      " [2011.    10.    91.8   24.4   22. ]\n",
      " [2011.    11.   148.6   35.2   23. ]\n",
      " [2011.    12.    87.1   22.    26. ]]\n"
     ]
    }
   ],
   "source": [
    "print(cork_rain)"
   ]
  },
  {
   "cell_type": "markdown",
   "metadata": {},
   "source": [
    "----\n",
    "1. Print out the max ‘Most Rainfall in a Day’ value and the average ‘Most Rainfall in a Day’ value for the Cork data (that is, obtain the maximum value contained in this column of data and the average value in this column of data)."
   ]
  },
  {
   "cell_type": "code",
   "execution_count": 6,
   "metadata": {},
   "outputs": [
    {
     "name": "stdout",
     "output_type": "stream",
     "text": [
      "Maximum Most Rainfall in Day (Millimetres) 86.7\n",
      "Average Most Rainfall in Day (Millimetres) 22.9105\n"
     ]
    }
   ],
   "source": [
    "# Most Rainfall in Day (Millimetres) is the fourth column\n",
    "print('Maximum Most Rainfall in Day (Millimetres)', cork_rain[:,3].max())\n",
    "print('Average Most Rainfall in Day (Millimetres)', cork_rain[:,3].mean())"
   ]
  },
  {
   "cell_type": "markdown",
   "metadata": {},
   "source": [
    "----\n",
    "2. Display all unique years for which there is data in the dataset (you can use np.unique). Ask the user to select a specific year. You should then output the sum of the RainDays column for that year (you do this by adding up the \"Number of rain days” for all 12 rows pertaining to the selected year)."
   ]
  },
  {
   "cell_type": "code",
   "execution_count": 7,
   "metadata": {},
   "outputs": [
    {
     "name": "stdout",
     "output_type": "stream",
     "text": [
      "[1962 1963 1964 1965 1966 1967 1968 1969 1970 1971 1972 1973 1974 1975\n",
      " 1976 1977 1978 1979 1980 1981 1982 1983 1984 1985 1986 1987 1988 1989\n",
      " 1990 1991 1992 1993 1994 1995 1996 1997 1998 1999 2000 2001 2002 2003\n",
      " 2004 2005 2006 2007 2008 2009 2010 2011]\n"
     ]
    }
   ],
   "source": [
    "# display the unique years in the dataset\n",
    "print(np.unique(cork_rain[:,0].astype(int)))"
   ]
  },
  {
   "cell_type": "code",
   "execution_count": 8,
   "metadata": {},
   "outputs": [
    {
     "name": "stdout",
     "output_type": "stream",
     "text": [
      "Select a year: 1978\n",
      "Total Rain Days for the year 1978 is 198\n"
     ]
    }
   ],
   "source": [
    "year = input('Select a year: ')\n",
    "if year != '':\n",
    "    year_sum = int(np.sum(cork_rain[cork_rain[:,0] == int(year),4]))\n",
    "    print(f'Total Rain Days for the year {year} is {year_sum}')"
   ]
  },
  {
   "cell_type": "markdown",
   "metadata": {},
   "source": [
    "---\n",
    "3. Calculate the wettest month of the year in Cork based using the “Total Rainfall” value. The month that has the highest cumulative “Total Rainfall” value across all years should be classified as the wettest."
   ]
  },
  {
   "cell_type": "code",
   "execution_count": 9,
   "metadata": {},
   "outputs": [
    {
     "name": "stdout",
     "output_type": "stream",
     "text": [
      "The Wettest month is: 1 with a Cummulative Total Rainfall 6848.0999999999985 mm\n"
     ]
    }
   ],
   "source": [
    "# reshape array to a 3D\n",
    "cork_rain_3d = cork_rain.reshape(50,12,5)\n",
    "# get the cummulative sum per month along the axis=0\n",
    "cum_total_rainfall = np.sum(cork_rain_3d[:,:,2], axis=0)\n",
    "# get the index with the maximum value\n",
    "wettest_month = np.argmax(cum_total_rainfall)\n",
    "# since the position of the first index in python is 0 adding one would actually \n",
    "# give the right index for the month\n",
    "wettest_month = wettest_month\n",
    "print(f'The Wettest month is: {int(wettest_month)+1} with a Cummulative Total Rainfall \\\n",
    "{cum_total_rainfall[wettest_month]} mm')"
   ]
  },
  {
   "cell_type": "markdown",
   "metadata": {},
   "source": [
    "----\n",
    "4. This question focuses on the Number of Rain days column. The user is asked to enter a maximum threshold value for the number of rain days. Your code should then output the percentage of the time (percentage of rows in the dataset) where the number of rain days is less than or equal to the threshold value. For example, if a user enters a maximum threshold value of 6, then your code should output the percentage of rows where the number of rain days fell below the threshold value of 6."
   ]
  },
  {
   "cell_type": "code",
   "execution_count": 10,
   "metadata": {},
   "outputs": [
    {
     "name": "stdout",
     "output_type": "stream",
     "text": [
      "Enter a Threshold for Rain Days: 20\n",
      "Percentage of rows where rain days is less than or equal to Threshold 70.33333333333334%\n"
     ]
    }
   ],
   "source": [
    "# in calculating the above we get the total count of rain days less than or equal to the threshold / total count of \n",
    "# rain days in the dataset\n",
    "threshold = input('Enter a Threshold for Rain Days: ')\n",
    "if threshold != '':\n",
    "    rain_days_threshold = len(cork_rain[:,4][cork_rain[:,4] <= int(threshold)])\n",
    "    total_rain_days = cork_rain[:,4].shape[0]\n",
    "    perc_rain_days = (rain_days_threshold/total_rain_days) * 100\n",
    "    print(f'Percentage of rows where rain days is less than or equal to Threshold {perc_rain_days}%')"
   ]
  },
  {
   "cell_type": "markdown",
   "metadata": {},
   "source": [
    "----\n",
    "5. Calculate the average ‘total rainfall’ value for the summer months (June, July and August) and the Autumn months (Sept, Oct, Nov)."
   ]
  },
  {
   "cell_type": "code",
   "execution_count": 11,
   "metadata": {},
   "outputs": [
    {
     "name": "stdout",
     "output_type": "stream",
     "text": [
      "Average Summer Rainfall: 80.03666666666666\n",
      "Average Autumn Rainfall: 114.45933333333335\n"
     ]
    }
   ],
   "source": [
    "summer = np.logical_and(cork_rain[:,1] >= 6,cork_rain[:,1]<=8)\n",
    "autumn = np.logical_and(cork_rain[:,1] >= 9,cork_rain[:,1]<=11)\n",
    "rain_fall = cork_rain[:,2]\n",
    "average_summer_rainfall = rain_fall[summer].mean()\n",
    "average_autumn_rainfall = rain_fall[autumn].mean()\n",
    "\n",
    "print('Average Summer Rainfall:', average_summer_rainfall)\n",
    "print('Average Autumn Rainfall:', average_autumn_rainfall)"
   ]
  },
  {
   "cell_type": "markdown",
   "metadata": {},
   "source": [
    "----\n",
    "6. Read in the contents of the file DublinRainfall.txt into a NumPy array. Append the all rows from the Dublin array to the Cork NumPy array. Calculate the average number of raindays for the new array and write the new NumPy array to a CSV file."
   ]
  },
  {
   "cell_type": "code",
   "execution_count": 12,
   "metadata": {},
   "outputs": [],
   "source": [
    "# set file path\n",
    "filename_dub = 'DublinRainfall.txt'\n",
    "file_dub = os.path.join(os.path.curdir,'datasets', filename_dub)"
   ]
  },
  {
   "cell_type": "code",
   "execution_count": 13,
   "metadata": {},
   "outputs": [
    {
     "data": {
      "text/plain": [
       "'.\\\\datasets\\\\DublinRainfall.txt'"
      ]
     },
     "execution_count": 13,
     "metadata": {},
     "output_type": "execute_result"
    }
   ],
   "source": [
    "file_dub"
   ]
  },
  {
   "cell_type": "code",
   "execution_count": 14,
   "metadata": {},
   "outputs": [
    {
     "name": "stdout",
     "output_type": "stream",
     "text": [
      "[[1962.     1.    41.1    7.1   16. ]\n",
      " [1962.     2.    26.7    5.7   14. ]\n",
      " [1962.     3.    53.6   15.1   13. ]\n",
      " ...\n",
      " [2011.    10.   147.4   71.3   18. ]\n",
      " [2011.    11.    48.5   11.7   11. ]\n",
      " [2011.    12.    52.2    5.2   23. ]]\n"
     ]
    }
   ],
   "source": [
    "dublin_rain = np.genfromtxt(file_dub)\n",
    "print(dublin_rain)"
   ]
  },
  {
   "cell_type": "code",
   "execution_count": 15,
   "metadata": {},
   "outputs": [
    {
     "name": "stdout",
     "output_type": "stream",
     "text": [
      "(600, 5)\n"
     ]
    }
   ],
   "source": [
    "# the shape of Cork and Dublin rain are the same hence its easy to append\n",
    "print(dublin_rain.shape)"
   ]
  },
  {
   "cell_type": "code",
   "execution_count": 16,
   "metadata": {},
   "outputs": [
    {
     "name": "stdout",
     "output_type": "stream",
     "text": [
      "(1200, 5)\n"
     ]
    }
   ],
   "source": [
    "cork_dublin_rain = np.append(cork_rain,dublin_rain, axis=0)\n",
    "print(cork_dublin_rain.shape)"
   ]
  },
  {
   "cell_type": "code",
   "execution_count": 17,
   "metadata": {},
   "outputs": [
    {
     "name": "stdout",
     "output_type": "stream",
     "text": [
      "Average Number of Raindays: 16.701666666666668\n"
     ]
    }
   ],
   "source": [
    "average_num_of_raindays = np.mean(cork_dublin_rain[:,4])\n",
    "print('Average Number of Raindays:',average_num_of_raindays)\n",
    "np.savetxt('cork_dublin_rainfall.csv', cork_dublin_rain, delimiter=',', fmt='%d')"
   ]
  },
  {
   "cell_type": "markdown",
   "metadata": {},
   "source": [
    "---\n",
    "## Question 2: Numerical Analysis Excercise using Numpy Bike Dataset:\n",
    "\n",
    "***Details of Dataset: Bike.csv***\n",
    "0. instant: record index\n",
    "1. season : season (1:springer, 2:summer, 3:fall, 4:winter)\n",
    "2. yr : year (0: 2011, 1:2012)\n",
    "3. mnth : month ( 1 to 12)\n",
    "4. hr : hour (0 to 23)\n",
    "5. holiday : weather day is holiday or not (extracted from [Web Link])\n",
    "6. weekday : day of the week\n",
    "7. workingday : if day is neither weekend nor holiday is 1, otherwise is 0.\n",
    "8. + weathersit :\n",
    "    1. 1: Clear, Few clouds, Partly cloudy, Partly cloudy\n",
    "    1. 2: Mist + Cloudy, Mist + Broken clouds, Mist + Few clouds, Mist\n",
    "    1. 3: Light Snow, Light Rain + Thunderstorm + Scattered clouds, Light Rain + Scattered clouds\n",
    "    1. 4: Heavy Rain + Ice Pallets + Thunderstorm + Mist, Snow + Fog\n",
    "9. temp : Normalized temperature in Celsius. The values are divided to 41 (max)\n",
    "10. atemp: Normalized feeling temperature in Celsius. The values are divided to 50 (max)\n",
    "11. hum: Normalized humidity. The values are divided to 100 (max)\n",
    "12. windspeed: Normalized wind speed. The values are divided to 67 (max)\n",
    "13. casual: count of casual users\n",
    "14. registered: count of registered users\n",
    "15. cnt: count of total rental bikes including both casual and registered"
   ]
  },
  {
   "cell_type": "code",
   "execution_count": 18,
   "metadata": {},
   "outputs": [],
   "source": [
    "# set file path\n",
    "bike = 'bike.csv'\n",
    "file_bike = os.path.join(os.path.curdir,'datasets', bike)"
   ]
  },
  {
   "cell_type": "code",
   "execution_count": 19,
   "metadata": {},
   "outputs": [
    {
     "name": "stdout",
     "output_type": "stream",
     "text": [
      "[[    1.     1.     0. ...     3.    13.    16.]\n",
      " [    2.     1.     0. ...     8.    32.    40.]\n",
      " [    3.     1.     0. ...     5.    27.    32.]\n",
      " ...\n",
      " [17377.     1.     1. ...     7.    83.    90.]\n",
      " [17378.     1.     1. ...    13.    48.    61.]\n",
      " [17379.     1.     1. ...    12.    37.    49.]]\n"
     ]
    }
   ],
   "source": [
    "bike_data = np.genfromtxt(file_bike, delimiter=',')\n",
    "print(bike_data)"
   ]
  },
  {
   "cell_type": "markdown",
   "metadata": {},
   "source": [
    "---\n",
    "1. Calculate the average temperature value (column index 9) for the entire dataset. Note the temperature values in this column have been already normalized by dividing by 41."
   ]
  },
  {
   "cell_type": "code",
   "execution_count": 20,
   "metadata": {},
   "outputs": [
    {
     "name": "stdout",
     "output_type": "stream",
     "text": [
      "Average Temperature value:  20.37647390528799\n"
     ]
    }
   ],
   "source": [
    "print('Average Temperature value: ', np.mean(bike_data[:,9] * 41))"
   ]
  },
  {
   "cell_type": "markdown",
   "metadata": {},
   "source": [
    "-----\n",
    "2. Print out the average number of casual users for all days classified as holidays as well as the average for all days classified as non-holidays. (Note holidays =1 and non-holidays = 0). Holidays attribute is stored at index 5."
   ]
  },
  {
   "cell_type": "code",
   "execution_count": 21,
   "metadata": {},
   "outputs": [
    {
     "name": "stdout",
     "output_type": "stream",
     "text": [
      "Average Holiday Casual Users 35.41 and Average Non-Holiday Casual Users: 44.72\n"
     ]
    }
   ],
   "source": [
    "avg_holiday_casual_users = bike_data[bike_data[:,5] == 0][:,13].mean()\n",
    "avg_non_holiday_casual_users = bike_data[bike_data[:,5] == 1][:,13].mean()\n",
    "print(f'Average Holiday Casual Users {avg_holiday_casual_users:.2f} and \\\n",
    "Average Non-Holiday Casual Users: {avg_non_holiday_casual_users:.2f}')"
   ]
  },
  {
   "cell_type": "markdown",
   "metadata": {},
   "source": [
    "---\n",
    "3. Write NumPy code that will print out the total number of casual users for each month of the year. You would expect to see an increase in the number of casual users over the summer months and a decline for the winter months.\n"
   ]
  },
  {
   "cell_type": "code",
   "execution_count": 22,
   "metadata": {},
   "outputs": [
    {
     "data": {
      "image/png": "[encoded data removed]",
      "text/plain": [
       "<Figure size 432x288 with 1 Axes>"
      ]
     },
     "metadata": {
      "needs_background": "light"
     },
     "output_type": "display_data"
    }
   ],
   "source": [
    "users_year1 = []\n",
    "users_year2 = []\n",
    "for year in np.unique(bike_data[:,2]):\n",
    "    for month in np.unique(bike_data[:,3]):\n",
    "        if year == 0:\n",
    "            casual_users = bike_data[(bike_data[:,3]== month) & (bike_data[:,2]== year)][:,13].sum()\n",
    "            users_year1.append(casual_users)\n",
    "        elif year == 1:\n",
    "            casual_users = bike_data[(bike_data[:,3]== month) & (bike_data[:,2]== year)][:,13].sum()\n",
    "            users_year2.append(casual_users)\n",
    "\n",
    "casual_users = [users_year1,users_year2]\n",
    "casual_users_arr = np.array(casual_users)\n",
    "\n",
    "plt.plot(casual_users_arr.T)\n",
    "plt.title('Total Number of Casual Users for each Month of the year')\n",
    "plt.ylabel('Casual Users')\n",
    "plt.xlabel('Months')\n",
    "plt.legend(['2011','2012'])\n",
    "plt.xticks([0,1,2,3,4,5,6,7,8,9,10,11],[1,2,3,4,5,6,7,8,9,10,11,12])\n",
    "plt.show()"
   ]
  },
  {
   "cell_type": "markdown",
   "metadata": {},
   "source": [
    "------\n",
    "4. We will now look at the relationship between temperature and the number of users (column index 15). Your code should work out the average number of users for the following temperature ranges.\n",
    "\n",
    "    * 1, 6\n",
    "    * 6, 10\n",
    "    * 10, 15\n",
    "    * 15, 20\n",
    "    * 20, 25\n",
    "    * 25, 30\n",
    "    * 30, 35\n",
    "    * 35, 40\n",
    "\n",
    "   ***Remember the temperature values specified in the file have been normalised by dividing by 41.***"
   ]
  },
  {
   "cell_type": "code",
   "execution_count": 23,
   "metadata": {},
   "outputs": [
    {
     "name": "stdout",
     "output_type": "stream",
     "text": [
      "Average number of Users in range (1, 6) : 51.85031847133758\n",
      "Average number of Users in range (6, 10) : 73.66706302021403\n",
      "Average number of Users in range (10, 15) : 123.71528588098016\n",
      "Average number of Users in range (15, 20) : 168.44148199445982\n",
      "Average number of Users in range (20, 25) : 209.50824261275272\n",
      "Average number of Users in range (25, 30) : 234.74462365591398\n",
      "Average number of Users in range (30, 35) : 330.33067729083666\n",
      "Average number of Users in range (35, 40) : 317.92134831460675\n"
     ]
    },
    {
     "data": {
      "image/png": "[encoded data removed]",
      "text/plain": [
       "<Figure size 432x288 with 1 Axes>"
      ]
     },
     "metadata": {
      "needs_background": "light"
     },
     "output_type": "display_data"
    }
   ],
   "source": [
    "temp_range = {\"1\":(1,6), \"2\":(6,10), \"3\":(10,15), \"4\":(15, 20), \"5\":(20, 25), \"6\":(25, 30), \"7\":(30, 35), \"8\":(35, 40)}\n",
    "avg_users_per_temp_range = []\n",
    "for x, y in temp_range.items():\n",
    "    avg_users = np.mean(bike_data[(bike_data[:,9]*41 >= temp_range[x][0]) \\\n",
    "                                                 & (bike_data[:,9]*41 < temp_range[x][1])][:,15])\n",
    "    avg_users_per_temp_range.append(avg_users)\n",
    "    print(f'Average number of Users in range {y} : {avg_users}')\n",
    "\n",
    "plt.plot(avg_users_per_temp_range)\n",
    "plt.title('Average Number of Users per Temperature Range')\n",
    "plt.xlabel('Temperature range')\n",
    "plt.ylabel('Average Users')\n",
    "plt.xticks([0,1,2,3,4,5,6,7],[(1,6),(6,10),(10,15),(15, 20),(20, 25),(25, 30),(30, 35),(35, 40)])\n",
    "plt.show()"
   ]
  },
  {
   "cell_type": "markdown",
   "metadata": {},
   "source": [
    "---\n",
    "## Question 3: Numerical Analysis Exercises Pandas - Shark Attack Dataset:\n",
    "For each of the following questions you will use a dataset containing information on global shark attacks called attacks.csv.\n",
    "Attribute Information:\n",
    "The attributes recorded in the dataset are as follows:\n",
    "0. Case Number\n",
    "1. Date\n",
    "2. Year\n",
    "3. Type\n",
    "4. Country\n",
    "5. Area\n",
    "6. Location\n",
    "7. Activity\n",
    "8. Name\n",
    "9. Sex\n",
    "10. Age\n",
    "11. Injury\n",
    "12. Fatal\n",
    "13. Time\n",
    "14. Species\n",
    "15. Investigator or Source\n",
    "\n",
    "You will notice in the dataset that some entries in the fatality column are recorded as UNKNOWN, n, F, etc. We ignore these entries and only consider entries that are uppercase ‘Y’ or ‘N’.\n",
    "Open this file using Pandas read_csv() function. The data file is stored in a different encoding format so you can use the following line to read the data into a dataframe."
   ]
  },
  {
   "cell_type": "code",
   "execution_count": 24,
   "metadata": {},
   "outputs": [],
   "source": [
    "attacks = 'attacks.csv'\n",
    "file_attacks = os.path.join(os.path.curdir,'datasets', attacks)\n",
    "df = pd.read_csv(file_attacks, encoding='ISO-8859-1')"
   ]
  },
  {
   "cell_type": "code",
   "execution_count": 25,
   "metadata": {},
   "outputs": [
    {
     "data": {
      "text/html": [
       "<div>\n",
       "<style scoped>\n",
       "    .dataframe tbody tr th:only-of-type {\n",
       "        vertical-align: middle;\n",
       "    }\n",
       "\n",
       "    .dataframe tbody tr th {\n",
       "        vertical-align: top;\n",
       "    }\n",
       "\n",
       "    .dataframe thead th {\n",
       "        text-align: right;\n",
       "    }\n",
       "</style>\n",
       "<table border=\"1\" class=\"dataframe\">\n",
       "  <thead>\n",
       "    <tr style=\"text-align: right;\">\n",
       "      <th></th>\n",
       "      <th>Case Number</th>\n",
       "      <th>Date</th>\n",
       "      <th>Year</th>\n",
       "      <th>Type</th>\n",
       "      <th>Country</th>\n",
       "      <th>Area</th>\n",
       "      <th>Location</th>\n",
       "      <th>Activity</th>\n",
       "      <th>Name</th>\n",
       "      <th>Sex</th>\n",
       "      <th>...</th>\n",
       "      <th>Fatal</th>\n",
       "      <th>Time</th>\n",
       "      <th>Species</th>\n",
       "      <th>Investigator or Source</th>\n",
       "      <th>pdf</th>\n",
       "      <th>href formula</th>\n",
       "      <th>href</th>\n",
       "      <th>Case Number.1</th>\n",
       "      <th>Case Number.2</th>\n",
       "      <th>original order</th>\n",
       "    </tr>\n",
       "  </thead>\n",
       "  <tbody>\n",
       "    <tr>\n",
       "      <td>0</td>\n",
       "      <td>2017.06.11</td>\n",
       "      <td>11-Jun-17</td>\n",
       "      <td>2017.0</td>\n",
       "      <td>Unprovoked</td>\n",
       "      <td>AUSTRALIA</td>\n",
       "      <td>Western Australia</td>\n",
       "      <td>Point Casuarina, Bunbury</td>\n",
       "      <td>Body boarding</td>\n",
       "      <td>Paul Goff</td>\n",
       "      <td>M</td>\n",
       "      <td>...</td>\n",
       "      <td>N</td>\n",
       "      <td>08h30</td>\n",
       "      <td>White shark, 4 m</td>\n",
       "      <td>WA Today, 6/11/2017</td>\n",
       "      <td>2017.06.11-Goff.pdf</td>\n",
       "      <td>http://sharkattackfile.net/spreadsheets/pdf_di...</td>\n",
       "      <td>http://sharkattackfile.net/spreadsheets/pdf_di...</td>\n",
       "      <td>2017.06.11</td>\n",
       "      <td>2017.06.11</td>\n",
       "      <td>6095.0</td>\n",
       "    </tr>\n",
       "    <tr>\n",
       "      <td>1</td>\n",
       "      <td>2017.06.10.b</td>\n",
       "      <td>10-Jun-17</td>\n",
       "      <td>2017.0</td>\n",
       "      <td>Unprovoked</td>\n",
       "      <td>AUSTRALIA</td>\n",
       "      <td>Victoria</td>\n",
       "      <td>Flinders, Mornington Penisula</td>\n",
       "      <td>Surfing</td>\n",
       "      <td>female</td>\n",
       "      <td>F</td>\n",
       "      <td>...</td>\n",
       "      <td>N</td>\n",
       "      <td>15h45</td>\n",
       "      <td>7 gill shark</td>\n",
       "      <td>NaN</td>\n",
       "      <td>2017.06.10.b-Flinders.pdf</td>\n",
       "      <td>http://sharkattackfile.net/spreadsheets/pdf_di...</td>\n",
       "      <td>http://sharkattackfile.net/spreadsheets/pdf_di...</td>\n",
       "      <td>2017.06.10.b</td>\n",
       "      <td>2017.06.10.b</td>\n",
       "      <td>6094.0</td>\n",
       "    </tr>\n",
       "    <tr>\n",
       "      <td>2</td>\n",
       "      <td>2017.06.10.a</td>\n",
       "      <td>10-Jun-17</td>\n",
       "      <td>2017.0</td>\n",
       "      <td>Unprovoked</td>\n",
       "      <td>USA</td>\n",
       "      <td>Florida</td>\n",
       "      <td>Ponce Inlet, Volusia County</td>\n",
       "      <td>Surfing</td>\n",
       "      <td>Bryan Brock</td>\n",
       "      <td>M</td>\n",
       "      <td>...</td>\n",
       "      <td>N</td>\n",
       "      <td>10h00</td>\n",
       "      <td>NaN</td>\n",
       "      <td>Daytona Beach News-Journal, 6/10/2017</td>\n",
       "      <td>2017.06.10.a-Brock.pdf</td>\n",
       "      <td>http://sharkattackfile.net/spreadsheets/pdf_di...</td>\n",
       "      <td>http://sharkattackfile.net/spreadsheets/pdf_di...</td>\n",
       "      <td>2017.06.10.a</td>\n",
       "      <td>2017.06.10.a</td>\n",
       "      <td>6093.0</td>\n",
       "    </tr>\n",
       "    <tr>\n",
       "      <td>3</td>\n",
       "      <td>2017.06.07.R</td>\n",
       "      <td>Reported 07-Jun-2017</td>\n",
       "      <td>2017.0</td>\n",
       "      <td>Unprovoked</td>\n",
       "      <td>UNITED KINGDOM</td>\n",
       "      <td>South Devon</td>\n",
       "      <td>Bantham Beach</td>\n",
       "      <td>Surfing</td>\n",
       "      <td>Rich Thomson</td>\n",
       "      <td>M</td>\n",
       "      <td>...</td>\n",
       "      <td>N</td>\n",
       "      <td>NaN</td>\n",
       "      <td>3m shark, probably a smooth hound</td>\n",
       "      <td>C. Moore, GSAF</td>\n",
       "      <td>2017.06.07.R-Thomson.pdf</td>\n",
       "      <td>http://sharkattackfile.net/spreadsheets/pdf_di...</td>\n",
       "      <td>http://sharkattackfile.net/spreadsheets/pdf_di...</td>\n",
       "      <td>2017.06.07.R</td>\n",
       "      <td>2017.06.07.R</td>\n",
       "      <td>6092.0</td>\n",
       "    </tr>\n",
       "    <tr>\n",
       "      <td>4</td>\n",
       "      <td>2017.06.04</td>\n",
       "      <td>04-Jun-17</td>\n",
       "      <td>2017.0</td>\n",
       "      <td>Unprovoked</td>\n",
       "      <td>USA</td>\n",
       "      <td>Florida</td>\n",
       "      <td>Middle Sambo Reef off Boca Chica, Monroe County</td>\n",
       "      <td>Spearfishing</td>\n",
       "      <td>Parker Simpson</td>\n",
       "      <td>M</td>\n",
       "      <td>...</td>\n",
       "      <td>N</td>\n",
       "      <td>NaN</td>\n",
       "      <td>8' shark</td>\n",
       "      <td>Nine News, 6/7/2017</td>\n",
       "      <td>2017.06.04-Simpson.pdf</td>\n",
       "      <td>http://sharkattackfile.net/spreadsheets/pdf_di...</td>\n",
       "      <td>http://sharkattackfile.net/spreadsheets/pdf_di...</td>\n",
       "      <td>2017.06.04</td>\n",
       "      <td>2017.06.04</td>\n",
       "      <td>6091.0</td>\n",
       "    </tr>\n",
       "  </tbody>\n",
       "</table>\n",
       "<p>5 rows × 22 columns</p>\n",
       "</div>"
      ],
      "text/plain": [
       "    Case Number                  Date    Year        Type         Country  \\\n",
       "0    2017.06.11             11-Jun-17  2017.0  Unprovoked       AUSTRALIA   \n",
       "1  2017.06.10.b             10-Jun-17  2017.0  Unprovoked       AUSTRALIA   \n",
       "2  2017.06.10.a             10-Jun-17  2017.0  Unprovoked             USA   \n",
       "3  2017.06.07.R  Reported 07-Jun-2017  2017.0  Unprovoked  UNITED KINGDOM   \n",
       "4    2017.06.04             04-Jun-17  2017.0  Unprovoked             USA   \n",
       "\n",
       "                Area                                         Location  \\\n",
       "0  Western Australia                         Point Casuarina, Bunbury   \n",
       "1           Victoria                    Flinders, Mornington Penisula   \n",
       "2            Florida                      Ponce Inlet, Volusia County   \n",
       "3        South Devon                                    Bantham Beach   \n",
       "4            Florida  Middle Sambo Reef off Boca Chica, Monroe County   \n",
       "\n",
       "        Activity            Name Sex   ... Fatal   Time  \\\n",
       "0  Body boarding       Paul Goff    M  ...     N  08h30   \n",
       "1        Surfing          female    F  ...     N  15h45   \n",
       "2        Surfing     Bryan Brock    M  ...     N  10h00   \n",
       "3       Surfing     Rich Thomson    M  ...     N    NaN   \n",
       "4   Spearfishing  Parker Simpson    M  ...     N    NaN   \n",
       "\n",
       "                            Species                  Investigator or Source  \\\n",
       "0                   White shark, 4 m                    WA Today, 6/11/2017   \n",
       "1                       7 gill shark                                    NaN   \n",
       "2                                NaN  Daytona Beach News-Journal, 6/10/2017   \n",
       "3  3m shark, probably a smooth hound                         C. Moore, GSAF   \n",
       "4                           8' shark                    Nine News, 6/7/2017   \n",
       "\n",
       "                         pdf  \\\n",
       "0        2017.06.11-Goff.pdf   \n",
       "1  2017.06.10.b-Flinders.pdf   \n",
       "2     2017.06.10.a-Brock.pdf   \n",
       "3   2017.06.07.R-Thomson.pdf   \n",
       "4     2017.06.04-Simpson.pdf   \n",
       "\n",
       "                                        href formula  \\\n",
       "0  http://sharkattackfile.net/spreadsheets/pdf_di...   \n",
       "1  http://sharkattackfile.net/spreadsheets/pdf_di...   \n",
       "2  http://sharkattackfile.net/spreadsheets/pdf_di...   \n",
       "3  http://sharkattackfile.net/spreadsheets/pdf_di...   \n",
       "4  http://sharkattackfile.net/spreadsheets/pdf_di...   \n",
       "\n",
       "                                                href Case Number.1  \\\n",
       "0  http://sharkattackfile.net/spreadsheets/pdf_di...    2017.06.11   \n",
       "1  http://sharkattackfile.net/spreadsheets/pdf_di...  2017.06.10.b   \n",
       "2  http://sharkattackfile.net/spreadsheets/pdf_di...  2017.06.10.a   \n",
       "3  http://sharkattackfile.net/spreadsheets/pdf_di...  2017.06.07.R   \n",
       "4  http://sharkattackfile.net/spreadsheets/pdf_di...    2017.06.04   \n",
       "\n",
       "  Case Number.2 original order  \n",
       "0    2017.06.11         6095.0  \n",
       "1  2017.06.10.b         6094.0  \n",
       "2  2017.06.10.a         6093.0  \n",
       "3  2017.06.07.R         6092.0  \n",
       "4    2017.06.04         6091.0  \n",
       "\n",
       "[5 rows x 22 columns]"
      ]
     },
     "execution_count": 25,
     "metadata": {},
     "output_type": "execute_result"
    }
   ],
   "source": [
    "df.head()"
   ]
  },
  {
   "cell_type": "code",
   "execution_count": 26,
   "metadata": {},
   "outputs": [
    {
     "name": "stdout",
     "output_type": "stream",
     "text": [
      "(25614, 22)\n",
      "Index(['Case Number', 'Date', 'Year', 'Type', 'Country', 'Area', 'Location',\n",
      "       'Activity', 'Name', 'Sex ', 'Age', 'Injury', 'Fatal', 'Time',\n",
      "       'Species ', 'Investigator or Source', 'pdf', 'href formula', 'href',\n",
      "       'Case Number.1', 'Case Number.2', 'original order'],\n",
      "      dtype='object')\n"
     ]
    }
   ],
   "source": [
    "print(df.shape) # prints the total number of rows and columns. (Rows: 25614, Columns: 22)\n",
    "print(df.columns) # prints the columns in the dataset"
   ]
  },
  {
   "cell_type": "markdown",
   "metadata": {},
   "source": [
    "----\n",
    "1. What location globally has the highest number of shark attacks?"
   ]
  },
  {
   "cell_type": "code",
   "execution_count": 27,
   "metadata": {},
   "outputs": [
    {
     "data": {
      "text/plain": [
       "New Smyrna Beach, Volusia County    162\n",
       "Daytona Beach, Volusia County        29\n",
       "Melbourne Beach, Brevard County      18\n",
       "Ponce Inlet, Volusia County          18\n",
       "Name: Location, dtype: int64"
      ]
     },
     "execution_count": 27,
     "metadata": {},
     "output_type": "execute_result"
    }
   ],
   "source": [
    "df['Location'].value_counts().head(4)"
   ]
  },
  {
   "cell_type": "code",
   "execution_count": 28,
   "metadata": {},
   "outputs": [
    {
     "name": "stdout",
     "output_type": "stream",
     "text": [
      "Location with the Highest Number of Shark Attacks: New Smyrna Beach, Volusia County\n"
     ]
    }
   ],
   "source": [
    "print('Location with the Highest Number of Shark Attacks:', df['Location'].mode()[0])"
   ]
  },
  {
   "cell_type": "markdown",
   "metadata": {},
   "source": [
    "----\n",
    "2. Determine the six countries that have experienced the highest number of shark attacks."
   ]
  },
  {
   "cell_type": "code",
   "execution_count": 29,
   "metadata": {},
   "outputs": [
    {
     "data": {
      "text/plain": [
       "USA                 2160\n",
       "AUSTRALIA           1303\n",
       "SOUTH AFRICA         571\n",
       "PAPUA NEW GUINEA     133\n",
       "NEW ZEALAND          126\n",
       "BRAZIL               103\n",
       "Name: Country, dtype: int64"
      ]
     },
     "execution_count": 29,
     "metadata": {},
     "output_type": "execute_result"
    }
   ],
   "source": [
    "# The six countries with the highest shark attacks\n",
    "df['Country'].value_counts().head(6)"
   ]
  },
  {
   "cell_type": "markdown",
   "metadata": {},
   "source": [
    "----\n",
    "3. Modify your code to print out the six countries that have experienced the highest number of fatal shark attacks."
   ]
  },
  {
   "cell_type": "code",
   "execution_count": 30,
   "metadata": {},
   "outputs": [
    {
     "data": {
      "text/plain": [
       "N          4391\n",
       "Y          1566\n",
       "UNKNOWN      94\n",
       " N            8\n",
       "N             1\n",
       "F             1\n",
       "#VALUE!       1\n",
       "2017          1\n",
       "n             1\n",
       "Name: Fatal, dtype: int64"
      ]
     },
     "execution_count": 30,
     "metadata": {},
     "output_type": "execute_result"
    }
   ],
   "source": [
    "# Apart from Y and N we are told to ignore all other indicators in the fatal variable\n",
    "# we would therefore use the indicator where fatal = Y since we interested in only fatal attacks\n",
    "df['Fatal'].value_counts()"
   ]
  },
  {
   "cell_type": "code",
   "execution_count": 31,
   "metadata": {},
   "outputs": [
    {
     "data": {
      "text/plain": [
       "AUSTRALIA           342\n",
       "USA                 250\n",
       "SOUTH AFRICA        137\n",
       "PAPUA NEW GUINEA     56\n",
       "MEXICO               44\n",
       "BRAZIL               40\n",
       "Name: Country, dtype: int64"
      ]
     },
     "execution_count": 31,
     "metadata": {},
     "output_type": "execute_result"
    }
   ],
   "source": [
    "# Any of the two below will give you same answer\n",
    "# The six countries with the highest number of fatal shark attacks\n",
    "df.loc[df['Fatal'] == 'Y', 'Country'].value_counts().head(6)\n",
    "#df['Country'][df['Fatal'] == 'Y'].value_counts().head(6)"
   ]
  },
  {
   "cell_type": "markdown",
   "metadata": {},
   "source": [
    "------\n",
    "4. Based on the data in the Activity column are you more likely to be attacked by a shark if you are “Surfing” or “Scuba Diving”."
   ]
  },
  {
   "cell_type": "code",
   "execution_count": 32,
   "metadata": {},
   "outputs": [
    {
     "data": {
      "text/plain": [
       "Surfing                                 931\n",
       "Swimming                                832\n",
       "Fishing                                 415\n",
       "Spearfishing                            325\n",
       "Bathing                                 154\n",
       "                                       ... \n",
       "40' fishing boat sank                     1\n",
       "Boat stopped to repair electric pump      1\n",
       "Fishing, casting in the surf              1\n",
       "Dynamiting fish                           1\n",
       "Freediving for abalone (at surface)       1\n",
       "Name: Activity, Length: 1503, dtype: int64"
      ]
     },
     "execution_count": 32,
     "metadata": {},
     "output_type": "execute_result"
    }
   ],
   "source": [
    "df['Activity'].value_counts()"
   ]
  },
  {
   "cell_type": "code",
   "execution_count": 33,
   "metadata": {},
   "outputs": [
    {
     "data": {
      "text/plain": [
       "Surfing         99.359658\n",
       "Scuba Diving     0.640342\n",
       "Name: Activity, dtype: float64"
      ]
     },
     "execution_count": 33,
     "metadata": {},
     "output_type": "execute_result"
    }
   ],
   "source": [
    "df['Activity'][(df['Activity'] == 'Scuba Diving') | (df['Activity'] == 'Surfing')].value_counts(normalize=True)*100"
   ]
  },
  {
   "cell_type": "markdown",
   "metadata": {},
   "source": [
    "The likelyhood of being attacked by a shark while **Surfing is 99.35%** as compared to **0.64% while Scuba diving**, based on the data sample that contains only Surfing and Scuba Diving, hence, you are more likey to be attacked while Surfing than Scuba diving."
   ]
  },
  {
   "cell_type": "markdown",
   "metadata": {},
   "source": [
    "------\n",
    "5. Determine from the dataset what percentage of all recorded shark attacks were fatal.\n",
    "\n",
    "    *(NB: We are told to ignore all other indicators except indicators with \"Y\" or \"N\")*"
   ]
  },
  {
   "cell_type": "code",
   "execution_count": 34,
   "metadata": {},
   "outputs": [
    {
     "name": "stdout",
     "output_type": "stream",
     "text": [
      "The percentage of fatal attacks: 25.82%\n"
     ]
    }
   ],
   "source": [
    "fatal_attacks = df[df['Fatal'] == 'Y']['Fatal'].value_counts().sum()\n",
    "total_attacks = df['Fatal'].value_counts().sum()\n",
    "\n",
    "perc_of_fatal_attacks = (fatal_attacks/total_attacks) * 100\n",
    "print(f'The percentage of fatal attacks: {perc_of_fatal_attacks:.2f}%')"
   ]
  },
  {
   "cell_type": "markdown",
   "metadata": {},
   "source": [
    "------\n",
    "6. For each individual country, print out the percentage of fatal shark attacks (number of fatal shark attacks expressed as a percentage of the total number of shark attacks). Some countries have recorded 0 fatal and non-fatal attacks. Your code should only consider countries where the number of non-fatal and fatal attacks are greater than 0."
   ]
  },
  {
   "cell_type": "code",
   "execution_count": 35,
   "metadata": {},
   "outputs": [
    {
     "data": {
      "text/plain": [
       "USA                             2160\n",
       "AUSTRALIA                       1303\n",
       "SOUTH AFRICA                     571\n",
       "PAPUA NEW GUINEA                 133\n",
       "NEW ZEALAND                      126\n",
       "                                ... \n",
       "ST. MAARTIN                        1\n",
       "ARUBA                              1\n",
       "RED SEA?                           1\n",
       "EQUATORIAL GUINEA / CAMEROON       1\n",
       "DJIBOUTI                           1\n",
       "Name: Country, Length: 204, dtype: int64"
      ]
     },
     "execution_count": 35,
     "metadata": {},
     "output_type": "execute_result"
    }
   ],
   "source": [
    "df['Country'].value_counts()"
   ]
  },
  {
   "cell_type": "code",
   "execution_count": 36,
   "metadata": {},
   "outputs": [
    {
     "name": "stdout",
     "output_type": "stream",
     "text": [
      "Percentage of Fatal Attacks in AUSTRALIA : 26.31%\n",
      "Percentage of Fatal Attacks in USA : 11.60%\n",
      "Percentage of Fatal Attacks in UNITED KINGDOM : 18.18%\n",
      "Percentage of Fatal Attacks in BAHAMAS : 11.88%\n",
      "Percentage of Fatal Attacks in UNITED ARAB EMIRATES : 0.00%\n",
      "Percentage of Fatal Attacks in MEXICO : 53.01%\n",
      "Percentage of Fatal Attacks in SOUTH AFRICA : 24.04%\n",
      "Percentage of Fatal Attacks in REUNION : 49.15%\n",
      "Percentage of Fatal Attacks in NEW ZEALAND : 22.40%\n",
      "Percentage of Fatal Attacks in ST HELENA, British overseas territory : 0.00%\n",
      "Percentage of Fatal Attacks in BRAZIL : 38.83%\n",
      "Percentage of Fatal Attacks in INDONESIA : 66.67%\n",
      "Percentage of Fatal Attacks in England : 0.00%\n",
      "Percentage of Fatal Attacks in NEW CALEDONIA : 37.25%\n",
      "Percentage of Fatal Attacks in SPAIN : 23.68%\n",
      "Percentage of Fatal Attacks in CHINA : 50.00%\n",
      "Percentage of Fatal Attacks in JAPAN : 43.75%\n",
      "Percentage of Fatal Attacks in COLUMBIA : 22.22%\n",
      "Percentage of Fatal Attacks in EGYPT : 36.11%\n",
      "Percentage of Fatal Attacks in FRENCH POLYNESIA : 9.09%\n",
      "Percentage of Fatal Attacks in CAPE VERDE : 66.67%\n",
      "Percentage of Fatal Attacks in Fiji : 66.67%\n",
      "Percentage of Fatal Attacks in DOMINICAN REPUBLIC : 57.14%\n",
      "Percentage of Fatal Attacks in CAYMAN ISLANDS : 0.00%\n",
      "Percentage of Fatal Attacks in ARUBA : 100.00%\n",
      "Percentage of Fatal Attacks in ECUADOR : 0.00%\n",
      "Percentage of Fatal Attacks in MOZAMBIQUE : 44.44%\n",
      "Percentage of Fatal Attacks in THAILAND : 50.00%\n",
      "Percentage of Fatal Attacks in FIJI : 35.48%\n",
      "Percentage of Fatal Attacks in PUERTO RICO : 0.00%\n",
      "Percentage of Fatal Attacks in ITALY : 26.47%\n",
      "Percentage of Fatal Attacks in ATLANTIC OCEAN : 46.67%\n",
      "Percentage of Fatal Attacks in GREECE : 62.50%\n",
      "Percentage of Fatal Attacks in MAURITIUS : 28.57%\n",
      "Percentage of Fatal Attacks in ST. MARTIN : 0.00%\n",
      "Percentage of Fatal Attacks in FRANCE : 25.00%\n",
      "Percentage of Fatal Attacks in PAPUA NEW GUINEA : 42.11%\n",
      "Percentage of Fatal Attacks in TRINIDAD & TOBAGO : 33.33%\n",
      "Percentage of Fatal Attacks in KIRIBATI : 66.67%\n",
      "Percentage of Fatal Attacks in ISRAEL : 0.00%\n",
      "Percentage of Fatal Attacks in DIEGO GARCIA : 100.00%\n",
      "Percentage of Fatal Attacks in TAIWAN : 33.33%\n",
      "Percentage of Fatal Attacks in JAMAICA : 58.33%\n",
      "Percentage of Fatal Attacks in PALESTINIAN TERRITORIES : 0.00%\n",
      "Percentage of Fatal Attacks in GUAM : 50.00%\n",
      "Percentage of Fatal Attacks in SEYCHELLES : 71.43%\n",
      "Percentage of Fatal Attacks in BELIZE : 66.67%\n",
      "Percentage of Fatal Attacks in PHILIPPINES : 62.71%\n",
      "Percentage of Fatal Attacks in NIGERIA : 75.00%\n",
      "Percentage of Fatal Attacks in TONGA : 26.67%\n",
      "Percentage of Fatal Attacks in SCOTLAND : 0.00%\n",
      "Percentage of Fatal Attacks in CANADA : 20.00%\n",
      "Percentage of Fatal Attacks in CROATIA : 56.25%\n",
      "Percentage of Fatal Attacks in SAUDI ARABIA : 20.00%\n",
      "Percentage of Fatal Attacks in CHILE : 50.00%\n",
      "Percentage of Fatal Attacks in ANTIGUA : 0.00%\n",
      "Percentage of Fatal Attacks in KENYA : 60.00%\n",
      "Percentage of Fatal Attacks in RUSSIA : 0.00%\n",
      "Percentage of Fatal Attacks in TURKS & CAICOS : 40.00%\n",
      "Percentage of Fatal Attacks in COSTA RICA : 66.67%\n",
      "Percentage of Fatal Attacks in MALAYSIA : 25.00%\n",
      "Percentage of Fatal Attacks in UNITED ARAB EMIRATES (UAE) : 0.00%\n",
      "Percentage of Fatal Attacks in SAMOA : 14.29%\n",
      "Percentage of Fatal Attacks in AZORES : 0.00%\n",
      "Percentage of Fatal Attacks in SOLOMON ISLANDS : 41.38%\n",
      "Percentage of Fatal Attacks in SOUTH KOREA : 75.00%\n",
      "Percentage of Fatal Attacks in MALTA : 60.00%\n",
      "Percentage of Fatal Attacks in VIETNAM : 7.14%\n",
      "Percentage of Fatal Attacks in MADAGASCAR : 57.14%\n",
      "Percentage of Fatal Attacks in PANAMA : 59.38%\n",
      "Percentage of Fatal Attacks in SOMALIA : 83.33%\n",
      "Percentage of Fatal Attacks in NEVIS : 100.00%\n",
      "Percentage of Fatal Attacks in CUBA : 57.14%\n",
      "Percentage of Fatal Attacks in ENGLAND : 15.79%\n",
      "Percentage of Fatal Attacks in BRITISH VIRGIN ISLANDS : 100.00%\n",
      "Percentage of Fatal Attacks in NORWAY : 0.00%\n",
      "Percentage of Fatal Attacks in SENEGAL : 36.36%\n",
      "Percentage of Fatal Attacks in YEMEN : 100.00%\n",
      "Percentage of Fatal Attacks in GULF OF ADEN : 100.00%\n",
      "Percentage of Fatal Attacks in Sierra Leone : 100.00%\n",
      "Percentage of Fatal Attacks in ST. MAARTIN : 0.00%\n",
      "Percentage of Fatal Attacks in GRAND CAYMAN : 0.00%\n",
      "Percentage of Fatal Attacks in Seychelles : 100.00%\n",
      "Percentage of Fatal Attacks in LIBERIA : 100.00%\n",
      "Percentage of Fatal Attacks in VANUATU : 64.29%\n",
      "Percentage of Fatal Attacks in MEXICO  : 0.00%\n",
      "Percentage of Fatal Attacks in HONDURAS : 66.67%\n",
      "Percentage of Fatal Attacks in VENEZUELA : 45.45%\n",
      "Percentage of Fatal Attacks in SRI LANKA : 21.43%\n",
      "Percentage of Fatal Attacks in  TONGA : 66.67%\n",
      "Percentage of Fatal Attacks in URUGUAY : 33.33%\n",
      "Percentage of Fatal Attacks in INDIA : 50.00%\n",
      "Percentage of Fatal Attacks in MICRONESIA : 0.00%\n",
      "Percentage of Fatal Attacks in CARIBBEAN SEA : 62.50%\n",
      "Percentage of Fatal Attacks in OKINAWA : 66.67%\n",
      "Percentage of Fatal Attacks in TANZANIA : 75.00%\n",
      "Percentage of Fatal Attacks in MARSHALL ISLANDS : 15.38%\n",
      "Percentage of Fatal Attacks in EGYPT / ISRAEL : 0.00%\n",
      "Percentage of Fatal Attacks in NORTHERN ARABIAN SEA : 0.00%\n",
      "Percentage of Fatal Attacks in HONG KONG : 70.83%\n",
      "Percentage of Fatal Attacks in EL SALVADOR : 50.00%\n",
      "Percentage of Fatal Attacks in ANGOLA : 0.00%\n",
      "Percentage of Fatal Attacks in BERMUDA : 20.00%\n",
      "Percentage of Fatal Attacks in MONTENEGRO : 66.67%\n",
      "Percentage of Fatal Attacks in IRAN : 44.83%\n",
      "Percentage of Fatal Attacks in TUNISIA : 33.33%\n",
      "Percentage of Fatal Attacks in NAMIBIA : 50.00%\n",
      "Percentage of Fatal Attacks in NORTH ATLANTIC OCEAN : 0.00%\n",
      "Percentage of Fatal Attacks in PORTUGAL : 66.67%\n",
      "Percentage of Fatal Attacks in SOUTH CHINA SEA : 0.00%\n",
      "Percentage of Fatal Attacks in BANGLADESH : 100.00%\n",
      "Percentage of Fatal Attacks in PALAU : 0.00%\n",
      "Percentage of Fatal Attacks in WESTERN SAMOA : 100.00%\n",
      "Percentage of Fatal Attacks in PACIFIC OCEAN  : 0.00%\n",
      "Percentage of Fatal Attacks in BRITISH ISLES : 0.00%\n",
      "Percentage of Fatal Attacks in GRENADA : 75.00%\n",
      "Percentage of Fatal Attacks in IRAQ : 25.00%\n",
      "Percentage of Fatal Attacks in TURKEY : 27.27%\n",
      "Percentage of Fatal Attacks in SINGAPORE : 66.67%\n",
      "Percentage of Fatal Attacks in NEW BRITAIN : 66.67%\n",
      "Percentage of Fatal Attacks in SUDAN : 25.00%\n",
      "Percentage of Fatal Attacks in JOHNSTON ISLAND : 0.00%\n",
      "Percentage of Fatal Attacks in SOUTH PACIFIC OCEAN : 100.00%\n",
      "Percentage of Fatal Attacks in NEW GUINEA : 60.00%\n",
      "Percentage of Fatal Attacks in RED SEA : 0.00%\n",
      "Percentage of Fatal Attacks in NORTH PACIFIC OCEAN : 28.57%\n",
      "Percentage of Fatal Attacks in FEDERATED STATES OF MICRONESIA : 0.00%\n",
      "Percentage of Fatal Attacks in MID ATLANTIC OCEAN : 40.00%\n",
      "Percentage of Fatal Attacks in ADMIRALTY ISLANDS : 0.00%\n",
      "Percentage of Fatal Attacks in BRITISH WEST INDIES : 0.00%\n",
      "Percentage of Fatal Attacks in SOUTH ATLANTIC OCEAN : 33.33%\n",
      "Percentage of Fatal Attacks in PERSIAN GULF : 25.00%\n",
      "Percentage of Fatal Attacks in RED SEA / INDIAN OCEAN : 100.00%\n",
      "Percentage of Fatal Attacks in PACIFIC OCEAN : 47.06%\n",
      "Percentage of Fatal Attacks in NORTH SEA : 0.00%\n",
      "Percentage of Fatal Attacks in NICARAGUA  : 0.00%\n",
      "Percentage of Fatal Attacks in MALDIVE ISLANDS : 100.00%\n",
      "Percentage of Fatal Attacks in AMERICAN SAMOA : 100.00%\n",
      "Percentage of Fatal Attacks in ANDAMAN / NICOBAR ISLANDAS : 100.00%\n",
      "Percentage of Fatal Attacks in GABON : 100.00%\n",
      "Percentage of Fatal Attacks in MAYOTTE : 100.00%\n",
      "Percentage of Fatal Attacks in NORTH ATLANTIC OCEAN  : 0.00%\n",
      "Percentage of Fatal Attacks in THE BALKANS : 100.00%\n",
      "Percentage of Fatal Attacks in SUDAN? : 0.00%\n",
      "Percentage of Fatal Attacks in ARGENTINA : 0.00%\n",
      "Percentage of Fatal Attacks in MARTINIQUE : 0.00%\n",
      "Percentage of Fatal Attacks in INDIAN OCEAN : 71.43%\n",
      "Percentage of Fatal Attacks in GUATEMALA : 100.00%\n",
      "Percentage of Fatal Attacks in NETHERLANDS ANTILLES : 0.00%\n",
      "Percentage of Fatal Attacks in NORTHERN MARIANA ISLANDS : 0.00%\n",
      "Percentage of Fatal Attacks in IRAN / IRAQ : 0.00%\n",
      "Percentage of Fatal Attacks in JAVA : 100.00%\n",
      "Percentage of Fatal Attacks in SIERRA LEONE : 50.00%\n",
      "Percentage of Fatal Attacks in  PHILIPPINES : 100.00%\n",
      "Percentage of Fatal Attacks in NICARAGUA : 83.33%\n",
      "Percentage of Fatal Attacks in CENTRAL PACIFIC : 50.00%\n",
      "Percentage of Fatal Attacks in SOLOMON ISLANDS / VANUATU : 100.00%\n",
      "Percentage of Fatal Attacks in SOUTHWEST PACIFIC OCEAN : 50.00%\n",
      "Percentage of Fatal Attacks in BAY OF BENGAL : 100.00%\n",
      "Percentage of Fatal Attacks in MID-PACIFC OCEAN : 0.00%\n",
      "Percentage of Fatal Attacks in SLOVENIA : 0.00%\n",
      "Percentage of Fatal Attacks in CURACAO : 0.00%\n",
      "Percentage of Fatal Attacks in ICELAND : 0.00%\n",
      "Percentage of Fatal Attacks in ITALY / CROATIA : 0.00%\n",
      "Percentage of Fatal Attacks in BARBADOS : 66.67%\n",
      "Percentage of Fatal Attacks in MONACO : 100.00%\n",
      "Percentage of Fatal Attacks in GUYANA : 0.00%\n",
      "Percentage of Fatal Attacks in HAITI : 33.33%\n",
      "Percentage of Fatal Attacks in SAN DOMINGO : 100.00%\n",
      "Percentage of Fatal Attacks in IRELAND : 100.00%\n",
      "Percentage of Fatal Attacks in KUWAIT : 0.00%\n",
      "Percentage of Fatal Attacks in LIBYA : 40.00%\n",
      "Percentage of Fatal Attacks in YEMEN  : 71.43%\n",
      "Percentage of Fatal Attacks in FALKLAND ISLANDS : 0.00%\n",
      "Percentage of Fatal Attacks in CRETE : 50.00%\n",
      "Percentage of Fatal Attacks in CYPRUS : 100.00%\n",
      "Percentage of Fatal Attacks in EGYPT  : 0.00%\n",
      "Percentage of Fatal Attacks in BURMA : 75.00%\n",
      "Percentage of Fatal Attacks in LEBANON : 66.67%\n",
      "Percentage of Fatal Attacks in PARAGUAY : 100.00%\n",
      "Percentage of Fatal Attacks in BRITISH NEW GUINEA : 0.00%\n",
      "Percentage of Fatal Attacks in OCEAN : 0.00%\n",
      "Percentage of Fatal Attacks in GEORGIA : 0.00%\n",
      "Percentage of Fatal Attacks in SYRIA : 100.00%\n",
      "Percentage of Fatal Attacks in TUVALU : 100.00%\n",
      "Percentage of Fatal Attacks in INDIAN OCEAN? : 100.00%\n"
     ]
    },
    {
     "name": "stdout",
     "output_type": "stream",
     "text": [
      "Percentage of Fatal Attacks in GUINEA : 100.00%\n",
      "Percentage of Fatal Attacks in EQUATORIAL GUINEA / CAMEROON : 100.00%\n",
      "Percentage of Fatal Attacks in COOK ISLANDS : 100.00%\n",
      "Percentage of Fatal Attacks in ALGERIA : 100.00%\n",
      "Percentage of Fatal Attacks in Coast of AFRICA : 100.00%\n",
      "Percentage of Fatal Attacks in TASMAN SEA : 0.00%\n",
      "Percentage of Fatal Attacks in GHANA : 100.00%\n",
      "Percentage of Fatal Attacks in SIERRA LEONE? : 100.00%\n",
      "Percentage of Fatal Attacks in GREENLAND : 100.00%\n",
      "Percentage of Fatal Attacks in MEDITERRANEAN SEA : 50.00%\n",
      "Percentage of Fatal Attacks in SWEDEN : 0.00%\n",
      "Percentage of Fatal Attacks in Between PORTUGAL & INDIA : 100.00%\n",
      "Percentage of Fatal Attacks in DJIBOUTI : 100.00%\n",
      "Percentage of Fatal Attacks in BAHREIN : 100.00%\n",
      "Percentage of Fatal Attacks in KOREA : 100.00%\n",
      "Percentage of Fatal Attacks in RED SEA? : 0.00%\n",
      "Percentage of Fatal Attacks in ASIA? : 0.00%\n",
      "Percentage of Fatal Attacks in CEYLON (SRI LANKA) : 100.00%\n"
     ]
    }
   ],
   "source": [
    "for country in df['Country'].unique():\n",
    "    attacks_by_country = df[(df['Fatal'] == 'Y') & (df['Country'] == country)]['Fatal'].value_counts().sum()\n",
    "    total_attacks_by_country = df[df['Country'] == country]['Fatal'].value_counts().sum()\n",
    "    if total_attacks_by_country > 0:\n",
    "        perc_of_attacks_by_country = (attacks_by_country / total_attacks_by_country) * 100\n",
    "        print(f'Percentage of Fatal Attacks in {country} : {perc_of_attacks_by_country:.2f}%')   "
   ]
  },
  {
   "cell_type": "code",
   "execution_count": null,
   "metadata": {},
   "outputs": [],
   "source": []
  }
 ],
 "metadata": {
  "kernelspec": {
   "display_name": "Python 3",
   "language": "python",
   "name": "python3"
  },
  "language_info": {
   "codemirror_mode": {
    "name": "ipython",
    "version": 3
   },
   "file_extension": ".py",
   "mimetype": "text/x-python",
   "name": "python",
   "nbconvert_exporter": "python",
   "pygments_lexer": "ipython3",
   "version": "3.7.3"
  }
 },
 "nbformat": 4,
 "nbformat_minor": 2
}
